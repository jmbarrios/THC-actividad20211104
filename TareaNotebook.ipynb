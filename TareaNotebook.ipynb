{
  "nbformat": 4,
  "nbformat_minor": 0,
  "metadata": {
    "colab": {
      "name": "TareaTest.ipynb",
      "provenance": [],
      "collapsed_sections": [],
      "authorship_tag": "ABX9TyNySe7zs/qaZ+8+A/qAxiFh",
      "include_colab_link": true
    },
    "kernelspec": {
      "name": "python3",
      "display_name": "Python 3"
    },
    "language_info": {
      "name": "python"
    }
  },
  "cells": [
    {
      "cell_type": "markdown",
      "metadata": {
        "id": "view-in-github",
        "colab_type": "text"
      },
      "source": [
        "<a href=\"https://colab.research.google.com/github/jmbarrios/THC-actividad20211104/blob/main/TareaNotebook.ipynb\" target=\"_parent\"><img src=\"https://colab.research.google.com/assets/colab-badge.svg\" alt=\"Open In Colab\"/></a>"
      ]
    },
    {
      "cell_type": "markdown",
      "metadata": {
        "id": "v9rBfeiwxP9k"
      },
      "source": [
        "# Actividad ejemplo de tarea"
      ]
    },
    {
      "cell_type": "markdown",
      "metadata": {
        "id": "HTY0N0VpxeKV"
      },
      "source": [
        "- Crear una función para sumar dos valores numéricos, en caso de que uno de los sumandos no sea un número debe de enviar un error \n",
        "\n",
        "```\n",
        "ValueError('Uno de los valores no es numérico.')\n",
        "```"
      ]
    },
    {
      "cell_type": "code",
      "metadata": {
        "id": "lA8fpjz8xoF3"
      },
      "source": [
        "# ex6003 NO MODIFICAR\n",
        "def suma(a, b):\n",
        "    pass"
      ],
      "execution_count": null,
      "outputs": []
    },
    {
      "cell_type": "code",
      "metadata": {
        "id": "XPZmLxS5J-Qb"
      },
      "source": [
        ""
      ],
      "execution_count": null,
      "outputs": []
    },
    {
      "cell_type": "markdown",
      "metadata": {
        "id": "uzreBvH8yL9H"
      },
      "source": [
        "- Crea una función que regrese la frase\n",
        "\n",
        "```\n",
        "Hola nombre.\n",
        "```\n",
        "\n",
        "donde nombre es el parámetro de la función. En caso de que no se propocione un nombre se debe de regresar la frase\n",
        "\n",
        "```\n",
        "Hola extraño.\n",
        "```\n",
        "\n",
        "Ejemplos\n",
        "\n",
        "| Nombre | Frase |\n",
        "|--------|-------|\n",
        "| Juan | Hola Juan. |\n",
        "| Alexis | Hola Alexis. |\n",
        "| | Hola extraño. |\n",
        "| Paola | Hola Paola. |\n"
      ]
    },
    {
      "cell_type": "code",
      "metadata": {
        "id": "2ncnt4_KySuB"
      },
      "source": [
        "# ex6003 NO MODIFICAR\n",
        "def saludo(nombre):\n",
        "    pass"
      ],
      "execution_count": null,
      "outputs": []
    },
    {
      "cell_type": "code",
      "metadata": {
        "id": "lXZARS2Vy0gV"
      },
      "source": [
        ""
      ],
      "execution_count": null,
      "outputs": []
    },
    {
      "cell_type": "markdown",
      "metadata": {
        "id": "nVZ1fnkHakHW"
      },
      "source": [
        "- Después de correr un experimento de clasificación de imagenes arroja el nombre de las fotos clasificadas y la probabilidad de detectar un objeto concatenadas en el nombre del archivo, \n",
        "\n",
        "```\n",
        "019-113ba476-edc2-4f59-bcab-218b0047143b.jpg\n",
        "```\n",
        "\n",
        "Los tres primeros dígitos corresponden a la probabilidad de detección en la que va desde 000 hasta 100, que corresponden a la probabilida de 0 y 1. \n",
        "\n",
        "Escribir una función que regrese la probabilidad de detección ebtre 0 y 1 dado el nombre de una fotografía. \n",
        "\n",
        "**Punto extra**: Considerar posibles errores en los valores de probabilidad. "
      ]
    },
    {
      "cell_type": "code",
      "metadata": {
        "id": "FQ3wnuE1cfn3"
      },
      "source": [
        "# ex6003 NO MODIFICAR\n",
        "def obten_probabilidad(img_name):\n",
        "    pass"
      ],
      "execution_count": null,
      "outputs": []
    },
    {
      "cell_type": "code",
      "metadata": {
        "id": "VdfpQ2QocorR"
      },
      "source": [
        ""
      ],
      "execution_count": null,
      "outputs": []
    }
  ]
}